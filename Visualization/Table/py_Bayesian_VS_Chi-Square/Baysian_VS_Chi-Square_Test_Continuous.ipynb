{
 "cells": [
  {
   "cell_type": "markdown",
   "metadata": {},
   "source": [
    "# Comparison of Bayesian and Chi-Square Testing\n",
    "\n",
    "## Objectives:\n",
    "* Compare the Bayesian and Frequentist approach to solving a problem\n",
    "* Observe that Bayesian is often able to reach a conclusion based on less data\n",
    "\n",
    "Suppose there are two medicines under consideration to treat a disease. Medicine A is well-known to result in a 50% survival rate. Medicine B has not been studied. (Its true survival rate is 52%, but this is not known until we study it.)\n",
    "\n",
    "We need to derive a test to determine if Medicine B is better than Medicine A and examine how much data we need to make this determination.\n",
    "\n",
    "How would we approach this problem using the frequentist (Chi-Squared) technique and the Bayesian technique? How do these approaches work for various sample sizes?"
   ]
  },
  {
   "cell_type": "code",
   "execution_count": 13,
   "metadata": {},
   "outputs": [],
   "source": [
    "import numpy as np\n",
    "'''Change or remove random seed to try this with different data'''\n",
    "np.random.seed(123456)\n",
    "import pandas as pd\n",
    "import matplotlib.pyplot as plt\n",
    "from scipy.stats import beta, chisquare\n",
    "\n",
    "'''The threshold value defines the baseline (or True) effectiveness\n",
    "of the medicine being studied'''\n",
    "threshold = 0.52"
   ]
  },
  {
   "cell_type": "code",
   "execution_count": 14,
   "metadata": {},
   "outputs": [
    {
     "name": "stdout",
     "output_type": "stream",
     "text": [
      "The apparent effectiveness of this medicine (as measured from a small sample) is: \n",
      "0.58\n"
     ]
    }
   ],
   "source": [
    "sample_size = n = 50\n",
    "''' B = outcomes of `n` patients who have been given medicne B\n",
    "1 = survival, 0 = perish '''\n",
    "B = 1*(np.random.random(n) < threshold)\n",
    "print('The apparent effectiveness of this medicine (as measured from a small sample) is: ')\n",
    "print(B.mean())"
   ]
  },
  {
   "cell_type": "markdown",
   "metadata": {},
   "source": [
    "## First, the frequentist approach\n",
    "\n",
    "Use the chi-squared test. If the p value is greater than 0.05, a frequentist would say that we can't reject the null hypothesis and therefore we continue to believe it, even if there is some reason to suspect the new medicine is better."
   ]
  },
  {
   "cell_type": "code",
   "execution_count": 15,
   "metadata": {},
   "outputs": [
    {
     "data": {
      "text/plain": [
       "0.2578990352923363"
      ]
     },
     "execution_count": 15,
     "metadata": {},
     "output_type": "execute_result"
    }
   ],
   "source": [
    "survivals = B.sum()\n",
    "deaths = n - survivals\n",
    "chi_p_value = chisquare([deaths, survivals])[1]\n",
    "chi_p_value"
   ]
  },
  {
   "cell_type": "markdown",
   "metadata": {},
   "source": [
    "## Next, the Bayesian Approach\n",
    "\n",
    "Rather than consider whether the null hypothesis can be rejected, we consider the proportion of time that Medicine B appears to be better than *status quo*."
   ]
  },
  {
   "cell_type": "code",
   "execution_count": 16,
   "metadata": {},
   "outputs": [
    {
     "data": {
      "text/plain": [
       "0.87008"
      ]
     },
     "execution_count": 16,
     "metadata": {},
     "output_type": "execute_result"
    }
   ],
   "source": [
    "probability_B_better = (beta(1+survivals, 1+deaths).rvs(100_000)>.5).mean()\n",
    "probability_B_better\n"
   ]
  },
  {
   "cell_type": "markdown",
   "metadata": {},
   "source": [
    "## Let's see how this changes as sample size increases\n",
    "\n",
    "let's suppose we have a large number of trial results, but we'll start by only considering a small subset of them.  As the size of this subset increases, we gain more confidence in our conclusions"
   ]
  },
  {
   "cell_type": "code",
   "execution_count": 17,
   "metadata": {},
   "outputs": [
    {
     "name": "stdout",
     "output_type": "stream",
     "text": [
      "A few outcomes: [0 0 1 0 1 0 0 1 0 1 1 1 0 1 0 1 0 1 0 1]\n",
      "The average effectivenss, (as measured from a large sample set): 0.51847\n"
     ]
    }
   ],
   "source": [
    "outcomes = 1*(np.random.random(100_000) < threshold)\n",
    "print(f'A few outcomes: {outcomes[:20]}')\n",
    "print(f'The average effectivenss, (as measured from a large sample set): {outcomes.mean()}')"
   ]
  },
  {
   "cell_type": "code",
   "execution_count": 18,
   "metadata": {},
   "outputs": [],
   "source": [
    "def comparison(n):\n",
    "    trials = n['trials']\n",
    "    trial_outcomes = outcomes[:trials]\n",
    "    survivals = trial_outcomes.sum()\n",
    "    deaths = trials - survivals\n",
    "    frequentist_p = chisquare([deaths, survivals])[1]\n",
    "    bayesian_prob = (beta(1+survivals, 1+deaths).rvs(100_000)>.5).mean()\n",
    "    return pd.Series({'survivals':survivals, \n",
    "                      'deaths':deaths, \n",
    "                      'p':frequentist_p, \n",
    "                      'bayes':bayesian_prob})"
   ]
  },
  {
   "cell_type": "code",
   "execution_count": 19,
   "metadata": {},
   "outputs": [
    {
     "name": "stderr",
     "output_type": "stream",
     "text": [
      "C:\\Users\\Smith\\AppData\\Local\\Temp\\ipykernel_13932\\2550790105.py:1: DeprecationWarning: `np.int` is a deprecated alias for the builtin `int`. To silence this warning, use `int` by itself. Doing this will not modify any behavior and is safe. When replacing `np.int`, you may wish to use e.g. `np.int64` or `np.int32` to specify the precision. If you wish to review your current use, check the release note link for additional information.\n",
      "Deprecated in NumPy 1.20; for more details and guidance: https://numpy.org/devdocs/release/1.20.0-notes.html#deprecations\n",
      "  df = pd.DataFrame({'trials':np.unique(np.logspace(2,5, 200).astype(np.int))}, dtype = np.int)\n"
     ]
    },
    {
     "data": {
      "text/html": [
       "<div>\n",
       "<style scoped>\n",
       "    .dataframe tbody tr th:only-of-type {\n",
       "        vertical-align: middle;\n",
       "    }\n",
       "\n",
       "    .dataframe tbody tr th {\n",
       "        vertical-align: top;\n",
       "    }\n",
       "\n",
       "    .dataframe thead th {\n",
       "        text-align: right;\n",
       "    }\n",
       "</style>\n",
       "<table border=\"1\" class=\"dataframe\">\n",
       "  <thead>\n",
       "    <tr style=\"text-align: right;\">\n",
       "      <th></th>\n",
       "      <th>survivals</th>\n",
       "      <th>deaths</th>\n",
       "      <th>p</th>\n",
       "      <th>bayes</th>\n",
       "    </tr>\n",
       "    <tr>\n",
       "      <th>trials</th>\n",
       "      <th></th>\n",
       "      <th></th>\n",
       "      <th></th>\n",
       "      <th></th>\n",
       "    </tr>\n",
       "  </thead>\n",
       "  <tbody>\n",
       "    <tr>\n",
       "      <th>100</th>\n",
       "      <td>54.0</td>\n",
       "      <td>46.0</td>\n",
       "      <td>0.423711</td>\n",
       "      <td>0.78608</td>\n",
       "    </tr>\n",
       "    <tr>\n",
       "      <th>103</th>\n",
       "      <td>55.0</td>\n",
       "      <td>48.0</td>\n",
       "      <td>0.490364</td>\n",
       "      <td>0.75501</td>\n",
       "    </tr>\n",
       "    <tr>\n",
       "      <th>107</th>\n",
       "      <td>57.0</td>\n",
       "      <td>50.0</td>\n",
       "      <td>0.498586</td>\n",
       "      <td>0.74996</td>\n",
       "    </tr>\n",
       "    <tr>\n",
       "      <th>110</th>\n",
       "      <td>59.0</td>\n",
       "      <td>51.0</td>\n",
       "      <td>0.445601</td>\n",
       "      <td>0.77616</td>\n",
       "    </tr>\n",
       "    <tr>\n",
       "      <th>114</th>\n",
       "      <td>63.0</td>\n",
       "      <td>51.0</td>\n",
       "      <td>0.261054</td>\n",
       "      <td>0.86845</td>\n",
       "    </tr>\n",
       "    <tr>\n",
       "      <th>118</th>\n",
       "      <td>67.0</td>\n",
       "      <td>51.0</td>\n",
       "      <td>0.140773</td>\n",
       "      <td>0.93000</td>\n",
       "    </tr>\n",
       "    <tr>\n",
       "      <th>123</th>\n",
       "      <td>69.0</td>\n",
       "      <td>54.0</td>\n",
       "      <td>0.176214</td>\n",
       "      <td>0.91072</td>\n",
       "    </tr>\n",
       "    <tr>\n",
       "      <th>127</th>\n",
       "      <td>72.0</td>\n",
       "      <td>55.0</td>\n",
       "      <td>0.131425</td>\n",
       "      <td>0.93417</td>\n",
       "    </tr>\n",
       "    <tr>\n",
       "      <th>132</th>\n",
       "      <td>74.0</td>\n",
       "      <td>58.0</td>\n",
       "      <td>0.163734</td>\n",
       "      <td>0.91778</td>\n",
       "    </tr>\n",
       "    <tr>\n",
       "      <th>136</th>\n",
       "      <td>76.0</td>\n",
       "      <td>60.0</td>\n",
       "      <td>0.170067</td>\n",
       "      <td>0.91380</td>\n",
       "    </tr>\n",
       "    <tr>\n",
       "      <th>141</th>\n",
       "      <td>80.0</td>\n",
       "      <td>61.0</td>\n",
       "      <td>0.109579</td>\n",
       "      <td>0.94579</td>\n",
       "    </tr>\n",
       "    <tr>\n",
       "      <th>146</th>\n",
       "      <td>83.0</td>\n",
       "      <td>63.0</td>\n",
       "      <td>0.097882</td>\n",
       "      <td>0.95112</td>\n",
       "    </tr>\n",
       "    <tr>\n",
       "      <th>151</th>\n",
       "      <td>87.0</td>\n",
       "      <td>64.0</td>\n",
       "      <td>0.061246</td>\n",
       "      <td>0.96877</td>\n",
       "    </tr>\n",
       "    <tr>\n",
       "      <th>157</th>\n",
       "      <td>89.0</td>\n",
       "      <td>68.0</td>\n",
       "      <td>0.093742</td>\n",
       "      <td>0.95326</td>\n",
       "    </tr>\n",
       "    <tr>\n",
       "      <th>162</th>\n",
       "      <td>92.0</td>\n",
       "      <td>70.0</td>\n",
       "      <td>0.083902</td>\n",
       "      <td>0.95789</td>\n",
       "    </tr>\n",
       "    <tr>\n",
       "      <th>168</th>\n",
       "      <td>94.0</td>\n",
       "      <td>74.0</td>\n",
       "      <td>0.122823</td>\n",
       "      <td>0.93717</td>\n",
       "    </tr>\n",
       "    <tr>\n",
       "      <th>174</th>\n",
       "      <td>97.0</td>\n",
       "      <td>77.0</td>\n",
       "      <td>0.129470</td>\n",
       "      <td>0.93527</td>\n",
       "    </tr>\n",
       "    <tr>\n",
       "      <th>180</th>\n",
       "      <td>101.0</td>\n",
       "      <td>79.0</td>\n",
       "      <td>0.101050</td>\n",
       "      <td>0.94850</td>\n",
       "    </tr>\n",
       "    <tr>\n",
       "      <th>186</th>\n",
       "      <td>103.0</td>\n",
       "      <td>83.0</td>\n",
       "      <td>0.142520</td>\n",
       "      <td>0.92896</td>\n",
       "    </tr>\n",
       "    <tr>\n",
       "      <th>193</th>\n",
       "      <td>105.0</td>\n",
       "      <td>88.0</td>\n",
       "      <td>0.221070</td>\n",
       "      <td>0.88894</td>\n",
       "    </tr>\n",
       "  </tbody>\n",
       "</table>\n",
       "</div>"
      ],
      "text/plain": [
       "        survivals  deaths         p    bayes\n",
       "trials                                      \n",
       "100          54.0    46.0  0.423711  0.78608\n",
       "103          55.0    48.0  0.490364  0.75501\n",
       "107          57.0    50.0  0.498586  0.74996\n",
       "110          59.0    51.0  0.445601  0.77616\n",
       "114          63.0    51.0  0.261054  0.86845\n",
       "118          67.0    51.0  0.140773  0.93000\n",
       "123          69.0    54.0  0.176214  0.91072\n",
       "127          72.0    55.0  0.131425  0.93417\n",
       "132          74.0    58.0  0.163734  0.91778\n",
       "136          76.0    60.0  0.170067  0.91380\n",
       "141          80.0    61.0  0.109579  0.94579\n",
       "146          83.0    63.0  0.097882  0.95112\n",
       "151          87.0    64.0  0.061246  0.96877\n",
       "157          89.0    68.0  0.093742  0.95326\n",
       "162          92.0    70.0  0.083902  0.95789\n",
       "168          94.0    74.0  0.122823  0.93717\n",
       "174          97.0    77.0  0.129470  0.93527\n",
       "180         101.0    79.0  0.101050  0.94850\n",
       "186         103.0    83.0  0.142520  0.92896\n",
       "193         105.0    88.0  0.221070  0.88894"
      ]
     },
     "execution_count": 19,
     "metadata": {},
     "output_type": "execute_result"
    }
   ],
   "source": [
    "df = pd.DataFrame({'trials':np.unique(np.logspace(2,5, 200).astype(np.int))}, dtype = np.int)\n",
    "x = pd.concat([df, df.apply(comparison, axis = 1)], axis = 1).set_index('trials')\n",
    "x.head(20)"
   ]
  },
  {
   "cell_type": "code",
   "execution_count": 20,
   "metadata": {},
   "outputs": [
    {
     "data": {
      "image/png": "[encoded data removed]",
      "text/plain": [
       "<Figure size 640x480 with 1 Axes>"
      ]
     },
     "metadata": {},
     "output_type": "display_data"
    }
   ],
   "source": [
    "plt.plot(1-x['p'], label = '1 - Chi Square p_value')\n",
    "plt.plot(x['bayes'], label = 'Bayes')\n",
    "plt.axhline(.95)\n",
    "plt.xscale('log')\n",
    "plt.xlabel('Number of Trials')\n",
    "plt.ylabel('Confidence or Probability of Superior Performance')\n",
    "plt.title('Comparison of Bayes and Frequentist Tests')\n",
    "plt.legend();"
   ]
  },
  {
   "cell_type": "markdown",
   "metadata": {},
   "source": [
    "This shows us that both the Chi Square test and the Bayesian test approach a high level of certainty for large sample sizes.\n",
    "Note that Bayes is nearly always above the Frequentist, and has less variation. Generally, Bayes will exceed the 95% threshold sooner.\n",
    "\n",
    "How much sooner is Bayes arriving at that conclusion?"
   ]
  },
  {
   "cell_type": "code",
   "execution_count": 21,
   "metadata": {},
   "outputs": [
    {
     "name": "stdout",
     "output_type": "stream",
     "text": [
      "First time Bayes exceeded 95%: \n",
      "146  trials\n"
     ]
    }
   ],
   "source": [
    "print('First time Bayes exceeded 95%: ')\n",
    "print(x[x['bayes'] > .95].index.min(),' trials')"
   ]
  },
  {
   "cell_type": "code",
   "execution_count": 22,
   "metadata": {},
   "outputs": [
    {
     "name": "stdout",
     "output_type": "stream",
     "text": [
      "First time Chi Squared exceeded 95% (p<.05): \n",
      "1398  trials\n"
     ]
    }
   ],
   "source": [
    "print('First time Chi Squared exceeded 95% (p<.05): ')\n",
    "print(x[x['p'] < .05].index.min(),' trials')"
   ]
  },
  {
   "cell_type": "code",
   "execution_count": 23,
   "metadata": {},
   "outputs": [
    {
     "name": "stdout",
     "output_type": "stream",
     "text": [
      "Last time Bayes was less than 95%\n",
      "5231  trials\n"
     ]
    }
   ],
   "source": [
    "print('Last time Bayes was less than 95%')\n",
    "print(x[x['bayes'] < .95].index.max(), ' trials')"
   ]
  },
  {
   "cell_type": "code",
   "execution_count": 24,
   "metadata": {},
   "outputs": [
    {
     "name": "stdout",
     "output_type": "stream",
     "text": [
      "Last time Chi Squared was less than 95% (p>.05): \n",
      "7934  trials\n"
     ]
    }
   ],
   "source": [
    "print('Last time Chi Squared was less than 95% (p>.05): ')\n",
    "print(x[x['p'] > .05].index.max(), ' trials')"
   ]
  },
  {
   "cell_type": "markdown",
   "metadata": {},
   "source": [
    "# Conclusion: \n",
    "\n",
    "### While both Bayesian and Frequentist approaches were able to arrive at the correct result, Bayes was able to reach that result with several hundred, or several thousand fewer trials.\n",
    "\n",
    "### In the real world, this could save time, money, effort and possibly even lives."
   ]
  },
  {
   "cell_type": "markdown",
   "metadata": {},
   "source": [
    "## Explore:\n",
    "\n",
    "* Try changing the np.random.seed() value in the first cell (or remove this statement) to try this with different values\n",
    "* Try changing the threshold value to see how this changes when the effect size changes.\n",
    "* If threshold = 0.5, the new medicine, B, should be identical to the *status quo* medicine."
   ]
  },
  {
   "cell_type": "code",
   "execution_count": null,
   "metadata": {},
   "outputs": [],
   "source": []
  }
 ],
 "metadata": {
  "kernelspec": {
   "display_name": "Python 3 (ipykernel)",
   "language": "python",
   "name": "python3"
  },
  "language_info": {
   "codemirror_mode": {
    "name": "ipython",
    "version": 3
   },
   "file_extension": ".py",
   "mimetype": "text/x-python",
   "name": "python",
   "nbconvert_exporter": "python",
   "pygments_lexer": "ipython3",
   "version": "3.9.13"
  }
 },
 "nbformat": 4,
 "nbformat_minor": 2
}
