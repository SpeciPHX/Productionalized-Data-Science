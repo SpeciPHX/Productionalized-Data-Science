{
 "cells": [
  {
   "cell_type": "code",
   "execution_count": 1,
   "id": "c47dcfa6",
   "metadata": {},
   "outputs": [],
   "source": [
    "#Summary Statistics\n",
    "#Measure of Center/Location\n",
    "#Mean: the arithmetic average of the data values\n",
    "#𝑥¯=∑𝑛𝑖=1𝑥𝑖𝑛=𝑥1+𝑥2+…+𝑥𝑛𝑛\n",
    " \n",
    "#where n is the sample size.\n",
    "#Median: the middle number when the data values are put in order\n",
    "#Mode: the most frequently occurred value"
   ]
  },
  {
   "cell_type": "code",
   "execution_count": 2,
   "id": "e458322b",
   "metadata": {},
   "outputs": [],
   "source": [
    "#Percentile: the  𝑝𝑡ℎ\n",
    "#  percentile -  𝑝%\n",
    "#  of the values in the data are less than or equal to this value ( 0≤𝑝≤100\n",
    "# )\n",
    "#Quartile:\n",
    "#1𝑠𝑡\n",
    "#  quartile =  25𝑡ℎ\n",
    "#  percentile\n",
    "#2𝑛𝑑\n",
    "#  quartile =  50𝑡ℎ\n",
    "#  percentile = median\n",
    "#3𝑟𝑑\n",
    "#  quartile =  75𝑡ℎ\n",
    "#  percentile"
   ]
  },
  {
   "cell_type": "code",
   "execution_count": 3,
   "id": "046be9bf",
   "metadata": {},
   "outputs": [],
   "source": [
    "x = [3, 5, 8, 1, 6, 9, 4, 2, 3, 11, 5, 13, 16, 8, 9]"
   ]
  },
  {
   "cell_type": "code",
   "execution_count": 4,
   "id": "897ff166",
   "metadata": {},
   "outputs": [
    {
     "name": "stdout",
     "output_type": "stream",
     "text": [
      "size: 15\n"
     ]
    }
   ],
   "source": [
    "print(\"size:\", len(x))"
   ]
  },
  {
   "cell_type": "code",
   "execution_count": 5,
   "id": "01934697",
   "metadata": {},
   "outputs": [
    {
     "name": "stdout",
     "output_type": "stream",
     "text": [
      "min: 1\n"
     ]
    }
   ],
   "source": [
    "# minimum value\n",
    "print(\"min:\", min(x))"
   ]
  },
  {
   "cell_type": "code",
   "execution_count": 6,
   "id": "ace6d2f7",
   "metadata": {},
   "outputs": [
    {
     "name": "stdout",
     "output_type": "stream",
     "text": [
      "max: 16\n"
     ]
    }
   ],
   "source": [
    "#maximum value\n",
    "print(\"max:\", max(x))"
   ]
  },
  {
   "cell_type": "code",
   "execution_count": 7,
   "id": "b4a8838e",
   "metadata": {},
   "outputs": [
    {
     "name": "stdout",
     "output_type": "stream",
     "text": [
      "[1, 2, 3, 3, 4, 5, 5, 6, 8, 8, 9, 9, 11, 13, 16]\n"
     ]
    }
   ],
   "source": [
    "# sort the values\n",
    "sorted_x = sorted(x)\n",
    "print(sorted_x)"
   ]
  },
  {
   "cell_type": "code",
   "execution_count": 8,
   "id": "538694f3",
   "metadata": {},
   "outputs": [
    {
     "name": "stdout",
     "output_type": "stream",
     "text": [
      "first value: 1\n"
     ]
    }
   ],
   "source": [
    "# minimum value\n",
    "print(\"first value:\", sorted_x[0])"
   ]
  },
  {
   "cell_type": "code",
   "execution_count": 9,
   "id": "52331d8d",
   "metadata": {},
   "outputs": [
    {
     "name": "stdout",
     "output_type": "stream",
     "text": [
      "last value: 16\n"
     ]
    }
   ],
   "source": [
    "# maximum value\n",
    "print(\"last value:\", sorted_x[-1])"
   ]
  },
  {
   "cell_type": "code",
   "execution_count": 10,
   "id": "ba501fb4",
   "metadata": {},
   "outputs": [
    {
     "name": "stdout",
     "output_type": "stream",
     "text": [
      "the mean of x is: 6.866666666666666\n"
     ]
    }
   ],
   "source": [
    "# calculate the mean\n",
    "\n",
    "mean_x = float(sum(x)) / len(x)\n",
    "print(\"the mean of x is:\", mean_x)"
   ]
  },
  {
   "cell_type": "code",
   "execution_count": 11,
   "id": "836c9331",
   "metadata": {},
   "outputs": [
    {
     "name": "stdout",
     "output_type": "stream",
     "text": [
      "the median of x is: 6\n"
     ]
    }
   ],
   "source": [
    "# find the median\n",
    "\n",
    "n = len(x)\n",
    "midpoint = n // 2\n",
    "\n",
    "if n % 2 == 1:\n",
    "    median_x = sorted_x[midpoint]\n",
    "else: \n",
    "    median_x = float((sorted_x[midpoint - 1] + sorted_x[midpoint]) / 2)\n",
    "    \n",
    "print(\"the median of x is:\", median_x)"
   ]
  },
  {
   "cell_type": "code",
   "execution_count": 12,
   "id": "8a3fc76e",
   "metadata": {},
   "outputs": [],
   "source": [
    "#Measure of Spread/Variation¶\n",
    "#Variance\n",
    "#𝑠2𝑥=1𝑛−1∑𝑖=1𝑛(𝑥𝑖−𝑥¯)2\n",
    "# \n",
    "#Standard deviation\n",
    "#𝑠𝑥=1𝑛−1∑𝑖=1𝑛(𝑥𝑖−𝑥¯)2⎯⎯⎯⎯⎯⎯⎯⎯⎯⎯⎯⎯⎯⎯⎯⎯⎯⎯⎯⎯⎯⎯⎯⎯⎯⎯⎯⎯⎯\n",
    "# \n",
    "#Range  =𝑥𝑚𝑎𝑥𝑖𝑚𝑢𝑚−𝑥𝑚𝑖𝑛𝑖𝑚𝑢𝑚\n",
    "# \n",
    "#Inter-quartile range (IQR)  =𝑄3−𝑄1"
   ]
  },
  {
   "cell_type": "code",
   "execution_count": 13,
   "id": "d60c737a",
   "metadata": {},
   "outputs": [
    {
     "name": "stdout",
     "output_type": "stream",
     "text": [
      "the variance of x is: 18.123809523809523\n"
     ]
    }
   ],
   "source": [
    "# Calculate the variance of x\n",
    "sum_of_squares = sum((x_i - mean_x) ** 2 for x_i in x)\n",
    "var_x = sum_of_squares / (n - 1)\n",
    "print(\"the variance of x is:\", var_x)"
   ]
  },
  {
   "cell_type": "code",
   "execution_count": 14,
   "id": "9e5a1c65",
   "metadata": {},
   "outputs": [],
   "source": [
    "#Measure of Shape\n",
    "#Skewness: a measure of the asymmetry of a distribution\n",
    "#Kurtosis: a measure of the \"peakedness\" of a distribution\n",
    "#Slide Type\n",
    "#Slide\n",
    "#Measure of Association/Dependence (Bivariate)\n",
    "#Covariance:\n",
    "#𝑠𝑥𝑦=1𝑛−1∑𝑖=1𝑛(𝑥𝑖−𝑥¯)(𝑦𝑖−𝑦¯)\n",
    "#Correlation\n",
    "#𝑟𝑥𝑦=𝑠𝑥𝑦𝑠𝑥𝑠𝑦"
   ]
  },
  {
   "cell_type": "code",
   "execution_count": 15,
   "id": "09f277f0",
   "metadata": {},
   "outputs": [],
   "source": [
    "y = [31, 16, 17, 34, 50, 23, 12, 46, 22, 56, 34, 48, 25, 43, 32]"
   ]
  },
  {
   "cell_type": "code",
   "execution_count": 16,
   "id": "3a78d18c",
   "metadata": {},
   "outputs": [],
   "source": [
    "mean_y = float(sum(y)) / len(y)"
   ]
  },
  {
   "cell_type": "code",
   "execution_count": 17,
   "id": "6fa9c475",
   "metadata": {},
   "outputs": [
    {
     "name": "stdout",
     "output_type": "stream",
     "text": [
      "the covariance of x and y is: 10.014285714285714\n"
     ]
    }
   ],
   "source": [
    "# calculate the covariance of x and y\n",
    "\n",
    "cov_xy = sum((x_i - mean_x)*(y_i - mean_y) for x_i, y_i in zip(x, y)) / (n - 1)\n",
    "print(\"the covariance of x and y is:\", cov_xy)"
   ]
  },
  {
   "cell_type": "code",
   "execution_count": null,
   "id": "c6f82a71",
   "metadata": {},
   "outputs": [],
   "source": []
  }
 ],
 "metadata": {
  "kernelspec": {
   "display_name": "Python 3 (ipykernel)",
   "language": "python",
   "name": "python3"
  },
  "language_info": {
   "codemirror_mode": {
    "name": "ipython",
    "version": 3
   },
   "file_extension": ".py",
   "mimetype": "text/x-python",
   "name": "python",
   "nbconvert_exporter": "python",
   "pygments_lexer": "ipython3",
   "version": "3.9.13"
  }
 },
 "nbformat": 4,
 "nbformat_minor": 5
}
