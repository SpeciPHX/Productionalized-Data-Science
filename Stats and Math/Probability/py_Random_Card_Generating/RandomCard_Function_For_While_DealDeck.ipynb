{
 "cells": [
  {
   "cell_type": "code",
   "execution_count": 1,
   "id": "cfceb85b",
   "metadata": {},
   "outputs": [],
   "source": [
    "from random import randint\n",
    "import pandas as pd\n",
    "import numpy as np\n",
    "from collections import defaultdict\n",
    "#https://docs.python.org/3/library/itertools.html\n",
    "\n",
    "import itertools\n",
    "from itertools import *\n",
    "from numpy import random\n",
    "\n",
    "def deal_deck(number_of_parts):\n",
    "    \"\"\"return a delt deck to the number of people specified by the number of parts.\n",
    "    This MUST be divisible by the total number of cards in the deck \"\"\"\n",
    "    \n",
    "    number_of_cards_per_suit = [item+2 for item in range(9)]\n",
    "    \n",
    "    face_cards=['Ace','King','Queen','Jack']\n",
    "    suits=['Hearts','Diamonds','Clubs','Spades']\n",
    "    number_deck = [(str(x)+\" \"+y) for x in number_of_cards_per_suit for y in suits] ### create the number cards per deck\n",
    "    face_deck = [(x+\" \"+y) for x in face_cards for y in suits] ## create the face cards per deck\n",
    "    final_deck = number_deck + face_deck\n",
    "    delt_deck=[[] for x in range(number_of_parts)]##add a list for every division of the deck\n",
    "    selected_items = []##to stop from double counting\n",
    "\n",
    "    \n",
    "    for count,item in enumerate(final_deck):\n",
    "        \n",
    "        choice = random.choice(final_deck) ## pick a card\n",
    "        #print(choice , 'this is your choice')\n",
    "        #print(selected_items , ' current selected items')\n",
    "        \n",
    "        while choice in selected_items:\n",
    "            #print(selected_items, 'your choice was in selected items')\n",
    "            choice = random.choice(final_deck) ##choose another card\n",
    "            #print(choice, 'new choice')\n",
    "            \n",
    "        else:\n",
    "            #print('your choice was not in the selected items')\n",
    "            delt_deck[round(count%number_of_parts)].append(choice)\n",
    "            selected_items.append(choice)\n",
    "            \n",
    "    return [tuple(item) for item in delt_deck]"
   ]
  },
  {
   "cell_type": "code",
   "execution_count": 2,
   "id": "c89e164e",
   "metadata": {},
   "outputs": [
    {
     "data": {
      "text/plain": [
       "[('7 Hearts',\n",
       "  '6 Diamonds',\n",
       "  '4 Diamonds',\n",
       "  'King Hearts',\n",
       "  '3 Diamonds',\n",
       "  'Jack Hearts',\n",
       "  'Ace Hearts',\n",
       "  'Ace Spades',\n",
       "  '9 Spades',\n",
       "  '8 Spades',\n",
       "  'King Diamonds',\n",
       "  'Queen Clubs',\n",
       "  '5 Spades'),\n",
       " ('Queen Hearts',\n",
       "  '3 Clubs',\n",
       "  '4 Spades',\n",
       "  '8 Hearts',\n",
       "  '7 Clubs',\n",
       "  '2 Diamonds',\n",
       "  '9 Diamonds',\n",
       "  '2 Hearts',\n",
       "  '5 Diamonds',\n",
       "  'Jack Spades',\n",
       "  '2 Clubs',\n",
       "  'Queen Spades',\n",
       "  '10 Hearts'),\n",
       " ('Jack Clubs',\n",
       "  'Ace Clubs',\n",
       "  '9 Clubs',\n",
       "  'Jack Diamonds',\n",
       "  '6 Clubs',\n",
       "  '10 Clubs',\n",
       "  '2 Spades',\n",
       "  'Ace Diamonds',\n",
       "  '7 Diamonds',\n",
       "  'King Spades',\n",
       "  '7 Spades',\n",
       "  '4 Clubs',\n",
       "  '10 Spades'),\n",
       " ('3 Hearts',\n",
       "  '6 Spades',\n",
       "  '6 Hearts',\n",
       "  '5 Clubs',\n",
       "  '5 Hearts',\n",
       "  '8 Diamonds',\n",
       "  'Queen Diamonds',\n",
       "  'King Clubs',\n",
       "  '8 Clubs',\n",
       "  '10 Diamonds',\n",
       "  '9 Hearts',\n",
       "  '3 Spades',\n",
       "  '4 Hearts')]"
      ]
     },
     "execution_count": 2,
     "metadata": {},
     "output_type": "execute_result"
    }
   ],
   "source": [
    "deal_deck(4)"
   ]
  },
  {
   "cell_type": "code",
   "execution_count": null,
   "id": "cee54144",
   "metadata": {},
   "outputs": [],
   "source": []
  }
 ],
 "metadata": {
  "kernelspec": {
   "display_name": "Python 3 (ipykernel)",
   "language": "python",
   "name": "python3"
  },
  "language_info": {
   "codemirror_mode": {
    "name": "ipython",
    "version": 3
   },
   "file_extension": ".py",
   "mimetype": "text/x-python",
   "name": "python",
   "nbconvert_exporter": "python",
   "pygments_lexer": "ipython3",
   "version": "3.9.13"
  }
 },
 "nbformat": 4,
 "nbformat_minor": 5
}
