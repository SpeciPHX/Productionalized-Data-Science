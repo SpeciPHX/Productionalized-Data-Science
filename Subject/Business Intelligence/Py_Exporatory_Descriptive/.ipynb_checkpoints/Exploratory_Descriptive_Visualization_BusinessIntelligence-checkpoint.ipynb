{
 "cells": [
  {
   "cell_type": "code",
   "execution_count": 1,
   "id": "54610823",
   "metadata": {},
   "outputs": [],
   "source": [
    "# Predictive Model for Los Angeles Dodgers Promotion and Attendance (Python)\n",
    "\n",
    "# prepare for Python version 3x features and functions\n"
   ]
  },
  {
   "cell_type": "code",
   "execution_count": 2,
   "id": "3cad04f6",
   "metadata": {},
   "outputs": [],
   "source": [
    "from __future__ import absolute_import, division, print_function\n",
    "from builtins import ascii, filter, hex, map, oct, bytes, str, open, super, range, zip, round, input, int, pow, object\n"
   ]
  },
  {
   "cell_type": "code",
   "execution_count": 3,
   "id": "98128757",
   "metadata": {},
   "outputs": [],
   "source": [
    "# import packages for analysis and modeling\n",
    "import pandas as pd  # data frame operations\n",
    "import matplotlib.pyplot as plt\n",
    "#from pandas.tools.rplot import RPlot, TrellisGrid, GeomPoint, ScaleRandomColour  # trellis/lattice plotting\n",
    "import numpy as np  # arrays and math functions\n",
    "from scipy.stats import uniform  # for training-and-test split\n",
    "import statsmodels.api as sm  # statistical models (including regression)\n",
    "import statsmodels.formula.api as smf  # R-like model specification\n",
    "import matplotlib.pyplot as plt  # 2D plotting\n"
   ]
  },
  {
   "cell_type": "code",
   "execution_count": 4,
   "id": "a5cb9b66",
   "metadata": {},
   "outputs": [
    {
     "name": "stdout",
     "output_type": "stream",
     "text": [
      "\n",
      "Contents of dodgers data frame ---------------\n"
     ]
    }
   ],
   "source": [
    "# read in Dodgers bobbleheads data and create data frame\n",
    "dodgers = pd.read_csv(\"dodgers.csv\")\n",
    "\n",
    "# examine the structure of the data frame\n",
    "print(\"\\nContents of dodgers data frame ---------------\")\n"
   ]
  },
  {
   "cell_type": "code",
   "execution_count": 5,
   "id": "b7e73577",
   "metadata": {},
   "outputs": [
    {
     "name": "stdout",
     "output_type": "stream",
     "text": [
      "  month  day  attend day_of_week opponent  temp   skies day_night cap shirt  \\\n",
      "0   APR   10   56000     Tuesday  Pirates    67  Clear        Day  NO    NO   \n",
      "1   APR   11   29729   Wednesday  Pirates    58  Cloudy     Night  NO    NO   \n",
      "2   APR   12   28328    Thursday  Pirates    57  Cloudy     Night  NO    NO   \n",
      "3   APR   13   31601      Friday   Padres    54  Cloudy     Night  NO    NO   \n",
      "4   APR   14   46549    Saturday   Padres    57  Cloudy     Night  NO    NO   \n",
      "\n",
      "  fireworks bobblehead  attend_000  \n",
      "0        NO         NO      56.000  \n",
      "1        NO         NO      29.729  \n",
      "2        NO         NO      28.328  \n",
      "3       YES         NO      31.601  \n",
      "4        NO         NO      46.549  \n"
     ]
    }
   ],
   "source": [
    "# attendance in thousands for plotting \n",
    "dodgers['attend_000'] = dodgers['attend']/1000\n",
    "\n",
    "# print the first five rows of the data frame\n",
    "print(pd.DataFrame.head(dodgers)) "
   ]
  },
  {
   "cell_type": "code",
   "execution_count": 6,
   "id": "1df9a47a",
   "metadata": {},
   "outputs": [],
   "source": [
    "mondays = dodgers[dodgers['day_of_week'] == 'Monday']\n",
    "tuesdays = dodgers[dodgers['day_of_week'] == 'Tuesday']\n",
    "wednesdays = dodgers[dodgers['day_of_week'] == 'Wednesday']\n",
    "thursdays = dodgers[dodgers['day_of_week'] == 'Thursday']\n",
    "fridays = dodgers[dodgers['day_of_week'] == 'Friday']\n",
    "saturdays = dodgers[dodgers['day_of_week'] == 'Saturday']\n",
    "sundays = dodgers[dodgers['day_of_week'] == 'Sunday']\n"
   ]
  },
  {
   "cell_type": "code",
   "execution_count": 7,
   "id": "a66c9e65",
   "metadata": {},
   "outputs": [],
   "source": [
    "# convert days' attendance into list of vectors for box plot\n",
    "data = [mondays['attend_000'], tuesdays['attend_000'], \n",
    "    wednesdays['attend_000'], thursdays['attend_000'], \n",
    "    fridays['attend_000'], saturdays['attend_000'], \n",
    "    sundays['attend_000']]\n",
    "ordered_day_names = ['Mon', 'Tue', 'Wed', 'Thur', 'Fri', 'Sat', 'Sun']"
   ]
  },
  {
   "cell_type": "code",
   "execution_count": 14,
   "id": "73927827",
   "metadata": {},
   "outputs": [
    {
     "data": {
      "image/png": "[encoded data removed]",
      "text/plain": [
       "<Figure size 640x480 with 1 Axes>"
      ]
     },
     "metadata": {},
     "output_type": "display_data"
    },
    {
     "name": "stderr",
     "output_type": "stream",
     "text": [
      "C:\\Users\\Smith\\AppData\\Local\\Temp\\ipykernel_10844\\2469003413.py:11: MatplotlibDeprecationWarning: savefig() got unexpected keyword argument \"papertype\" which is no longer supported as of 3.3 and will become an error in 3.6\n",
      "  plt.savefig('fig_advert_promo_dodgers_eda_day_of_week_Python.pdf',\n",
      "C:\\Users\\Smith\\AppData\\Local\\Temp\\ipykernel_10844\\2469003413.py:11: MatplotlibDeprecationWarning: savefig() got unexpected keyword argument \"frameon\" which is no longer supported as of 3.3 and will become an error in 3.6\n",
      "  plt.savefig('fig_advert_promo_dodgers_eda_day_of_week_Python.pdf',\n"
     ]
    },
    {
     "data": {
      "text/plain": [
       "<Figure size 640x480 with 0 Axes>"
      ]
     },
     "metadata": {},
     "output_type": "display_data"
    }
   ],
   "source": [
    "# exploratory data analysis: box plot for day of the week\n",
    "fig, axis = plt.subplots()\n",
    "axis.set_xlabel('Day of Week')\n",
    "axis.set_ylabel('Attendance (thousands)')\n",
    "day_plot = plt.boxplot(data, sym='o', vert=1, whis=1.5)\n",
    "plt.setp(day_plot['boxes'], color = 'black')    \n",
    "plt.setp(day_plot['whiskers'], color = 'black')    \n",
    "plt.setp(day_plot['fliers'], color = 'black', marker = 'o')\n",
    "axis.set_xticklabels(ordered_day_names)\n",
    "plt.show()\n",
    "plt.savefig('fig_advert_promo_dodgers_eda_day_of_week_Python.pdf', \n",
    "    bbox_inches = 'tight', dpi=None, facecolor='w', edgecolor='b', \n",
    "    orientation='portrait', papertype=None, format=None, \n",
    "    transparent=True, pad_inches=0.25, frameon=None)  \n"
   ]
  },
  {
   "cell_type": "code",
   "execution_count": 15,
   "id": "30a2c79e",
   "metadata": {},
   "outputs": [],
   "source": [
    "april = dodgers[dodgers['month'] == 'APR']\n",
    "may = dodgers[dodgers['month'] == 'MAY']\n",
    "june = dodgers[dodgers['month'] == 'JUN']\n",
    "july = dodgers[dodgers['month'] == 'JUL']\n",
    "august = dodgers[dodgers['month'] == 'AUG']\n",
    "september = dodgers[dodgers['month'] == 'SEP']\n",
    "october = dodgers[dodgers['month'] == 'OCT']\n",
    "\n",
    "data = [april['attend_000'], may['attend_000'], \n",
    "    june['attend_000'], july['attend_000'], \n",
    "    august['attend_000'], september['attend_000'], \n",
    "    october['attend_000']]\n",
    "ordered_month_names = ['April', 'May', 'June', 'July', 'Aug', 'Sept', 'Oct']"
   ]
  },
  {
   "cell_type": "code",
   "execution_count": 16,
   "id": "53fa5538",
   "metadata": {},
   "outputs": [
    {
     "data": {
      "image/png": "[encoded data removed]",
      "text/plain": [
       "<Figure size 640x480 with 1 Axes>"
      ]
     },
     "metadata": {},
     "output_type": "display_data"
    },
    {
     "name": "stderr",
     "output_type": "stream",
     "text": [
      "C:\\Users\\Smith\\AppData\\Local\\Temp\\ipykernel_10844\\2983368005.py:10: MatplotlibDeprecationWarning: savefig() got unexpected keyword argument \"papertype\" which is no longer supported as of 3.3 and will become an error in 3.6\n",
      "  plt.savefig('fig_advert_promo_dodgers_eda_month_Python.pdf',\n",
      "C:\\Users\\Smith\\AppData\\Local\\Temp\\ipykernel_10844\\2983368005.py:10: MatplotlibDeprecationWarning: savefig() got unexpected keyword argument \"frameon\" which is no longer supported as of 3.3 and will become an error in 3.6\n",
      "  plt.savefig('fig_advert_promo_dodgers_eda_month_Python.pdf',\n"
     ]
    },
    {
     "data": {
      "text/plain": [
       "<Figure size 640x480 with 0 Axes>"
      ]
     },
     "metadata": {},
     "output_type": "display_data"
    }
   ],
   "source": [
    "fig, axis = plt.subplots()\n",
    "axis.set_xlabel('Month')\n",
    "axis.set_ylabel('Attendance (thousands)')\n",
    "day_plot = plt.boxplot(data, sym='o', vert=1, whis=1.5)\n",
    "plt.setp(day_plot['boxes'], color = 'black')    \n",
    "plt.setp(day_plot['whiskers'], color = 'black')    \n",
    "plt.setp(day_plot['fliers'], color = 'black', marker = 'o')\n",
    "axis.set_xticklabels(ordered_month_names)\n",
    "plt.show()\n",
    "plt.savefig('fig_advert_promo_dodgers_eda_month_Python.pdf', \n",
    "    bbox_inches = 'tight', dpi=None, facecolor='w', edgecolor='b', \n",
    "    orientation='portrait', papertype=None, format=None, \n",
    "    transparent=True, pad_inches=0.25, frameon=None) "
   ]
  },
  {
   "cell_type": "code",
   "execution_count": 18,
   "id": "7cf88c26",
   "metadata": {},
   "outputs": [],
   "source": [
    "# map day_of_week to ordered_day_of_week \n",
    "day_to_ordered_day = {'Monday' : '1Monday', \n",
    "     'Tuesday' : '2Tuesday', \n",
    "     'Wednesday' : '3Wednesday', \n",
    "     'Thursday' : '4Thursday', \n",
    "     'Friday' : '5Friday',\n",
    "     'Saturday' : '6Saturday',\n",
    "     'Sunday' : '7Sunday'}\n",
    "dodgers['ordered_day_of_week'] = dodgers['day_of_week'].map(day_to_ordered_day)   "
   ]
  },
  {
   "cell_type": "code",
   "execution_count": 19,
   "id": "2a684e78",
   "metadata": {},
   "outputs": [],
   "source": [
    "month_to_ordered_month = {'APR' : '1April', \n",
    "     'MAY' : '2May', \n",
    "     'JUN' : '3June', \n",
    "     'JUL' : '4July', \n",
    "     'AUG' : '5Aug',\n",
    "     'SEP' : '6Sept',\n",
    "     'OCT' : '7Oct'}\n",
    "dodgers['ordered_month'] = dodgers['month'].map(month_to_ordered_month)  "
   ]
  },
  {
   "cell_type": "code",
   "execution_count": 20,
   "id": "b29f2ca8",
   "metadata": {},
   "outputs": [
    {
     "name": "stdout",
     "output_type": "stream",
     "text": [
      "\n",
      "dodgers_train data frame (rows, columns):  (57, 16)\n",
      "  month  day  attend day_of_week opponent  temp   skies day_night cap shirt  \\\n",
      "1   APR   11   29729   Wednesday  Pirates    58  Cloudy     Night  NO    NO   \n",
      "2   APR   12   28328    Thursday  Pirates    57  Cloudy     Night  NO    NO   \n",
      "3   APR   13   31601      Friday   Padres    54  Cloudy     Night  NO    NO   \n",
      "4   APR   14   46549    Saturday   Padres    57  Cloudy     Night  NO    NO   \n",
      "7   APR   24   44014     Tuesday   Braves    63  Cloudy     Night  NO    NO   \n",
      "\n",
      "  fireworks bobblehead  attend_000 ordered_day_of_week ordered_month  runiform  \n",
      "1        NO         NO      29.729          3Wednesday        1April  0.622109  \n",
      "2        NO         NO      28.328           4Thursday        1April  0.437728  \n",
      "3       YES         NO      31.601             5Friday        1April  0.785359  \n",
      "4        NO         NO      46.549           6Saturday        1April  0.779976  \n",
      "7        NO         NO      44.014            2Tuesday        1April  0.801872  \n",
      "\n",
      "dodgers_test data frame (rows, columns):  (24, 16)\n",
      "   month  day  attend day_of_week   opponent  temp   skies day_night cap  \\\n",
      "0    APR   10   56000     Tuesday    Pirates    67  Clear        Day  NO   \n",
      "5    APR   15   38359      Sunday     Padres    65  Clear        Day  NO   \n",
      "6    APR   23   26376      Monday     Braves    60  Cloudy     Night  NO   \n",
      "17   MAY   13   49124      Sunday    Rockies    70  Clear        Day  NO   \n",
      "22   MAY   20   44005      Sunday  Cardinals    77  Clear      Night  NO   \n",
      "\n",
      "   shirt fireworks bobblehead  attend_000 ordered_day_of_week ordered_month  \\\n",
      "0     NO        NO         NO      56.000            2Tuesday        1April   \n",
      "5     NO        NO         NO      38.359             7Sunday        1April   \n",
      "6     NO        NO         NO      26.376             1Monday        1April   \n",
      "17    NO        NO         NO      49.124             7Sunday          2May   \n",
      "22    NO        NO         NO      44.005             7Sunday          2May   \n",
      "\n",
      "    runiform  \n",
      "0   0.191519  \n",
      "5   0.272593  \n",
      "6   0.276464  \n",
      "17  0.013768  \n",
      "22  0.075381  \n"
     ]
    }
   ],
   "source": [
    "# employ training-and-test regimen for model validation\n",
    "np.random.seed(1234)\n",
    "dodgers['runiform'] = uniform.rvs(loc = 0, scale = 1, size = len(dodgers))\n",
    "dodgers_train = dodgers[dodgers['runiform'] >= 0.33]\n",
    "dodgers_test = dodgers[dodgers['runiform'] < 0.33]\n",
    "# check training data frame\n",
    "print('\\ndodgers_train data frame (rows, columns): ',dodgers_train.shape)\n",
    "print(dodgers_train.head())\n",
    "# check test data frame\n",
    "print('\\ndodgers_test data frame (rows, columns): ',dodgers_test.shape)\n",
    "print(dodgers_test.head())"
   ]
  },
  {
   "cell_type": "code",
   "execution_count": 21,
   "id": "95ee4b10",
   "metadata": {},
   "outputs": [
    {
     "name": "stdout",
     "output_type": "stream",
     "text": [
      "                            OLS Regression Results                            \n",
      "==============================================================================\n",
      "Dep. Variable:                 attend   R-squared:                       0.639\n",
      "Model:                            OLS   Adj. R-squared:                  0.530\n",
      "Method:                 Least Squares   F-statistic:                     5.864\n",
      "Date:                Sun, 22 Jan 2023   Prob (F-statistic):           4.70e-06\n",
      "Time:                        01:14:12   Log-Likelihood:                -566.87\n",
      "No. Observations:                  57   AIC:                             1162.\n",
      "Df Residuals:                      43   BIC:                             1190.\n",
      "Df Model:                          13                                         \n",
      "Covariance Type:            nonrobust                                         \n",
      "=====================================================================================================\n",
      "                                        coef    std err          t      P>|t|      [0.025      0.975]\n",
      "-----------------------------------------------------------------------------------------------------\n",
      "Intercept                          3.599e+04   3133.268     11.486      0.000    2.97e+04    4.23e+04\n",
      "ordered_month[T.2May]             -3049.4581   2532.400     -1.204      0.235   -8156.529    2057.613\n",
      "ordered_month[T.3June]             8776.8177   2979.201      2.946      0.005    2768.686    1.48e+04\n",
      "ordered_month[T.4July]             3705.6266   3237.723      1.145      0.259   -2823.865    1.02e+04\n",
      "ordered_month[T.5Aug]              2027.5628   2698.095      0.751      0.456   -3413.664    7468.789\n",
      "ordered_month[T.6Sept]             1280.8090   2863.529      0.447      0.657   -4494.048    7055.666\n",
      "ordered_month[T.7Oct]             -1234.2437   6407.369     -0.193      0.848   -1.42e+04    1.17e+04\n",
      "ordered_day_of_week[T.2Tuesday]    4734.3477   3466.721      1.366      0.179   -2256.961    1.17e+04\n",
      "ordered_day_of_week[T.3Wednesday]  -741.4427   3228.255     -0.230      0.819   -7251.839    5768.954\n",
      "ordered_day_of_week[T.4Thursday]   -878.9914   3849.182     -0.228      0.820   -8641.606    6883.624\n",
      "ordered_day_of_week[T.5Friday]     3420.7852   2885.730      1.185      0.242   -2398.844    9240.414\n",
      "ordered_day_of_week[T.6Saturday]   3060.5245   2965.589      1.032      0.308   -2920.156    9041.205\n",
      "ordered_day_of_week[T.7Sunday]     2796.4262   3153.300      0.887      0.380   -3562.810    9155.662\n",
      "bobblehead[T.YES]                  1.233e+04   2683.012      4.595      0.000    6918.497    1.77e+04\n",
      "==============================================================================\n",
      "Omnibus:                        2.353   Durbin-Watson:                   2.084\n",
      "Prob(Omnibus):                  0.308   Jarque-Bera (JB):                1.932\n",
      "Skew:                           0.451   Prob(JB):                        0.381\n",
      "Kurtosis:                       2.993   Cond. No.                         10.7\n",
      "==============================================================================\n",
      "\n",
      "Notes:\n",
      "[1] Standard Errors assume that the covariance matrix of the errors is correctly specified.\n"
     ]
    },
    {
     "name": "stderr",
     "output_type": "stream",
     "text": [
      "C:\\Users\\Smith\\AppData\\Local\\Temp\\ipykernel_10844\\1073117626.py:9: SettingWithCopyWarning: \n",
      "A value is trying to be set on a copy of a slice from a DataFrame.\n",
      "Try using .loc[row_indexer,col_indexer] = value instead\n",
      "\n",
      "See the caveats in the documentation: https://pandas.pydata.org/pandas-docs/stable/user_guide/indexing.html#returning-a-view-versus-a-copy\n",
      "  dodgers_train['predict_attend'] = train_model_fit.fittedvalues\n",
      "C:\\Users\\Smith\\AppData\\Local\\Temp\\ipykernel_10844\\1073117626.py:12: SettingWithCopyWarning: \n",
      "A value is trying to be set on a copy of a slice from a DataFrame.\n",
      "Try using .loc[row_indexer,col_indexer] = value instead\n",
      "\n",
      "See the caveats in the documentation: https://pandas.pydata.org/pandas-docs/stable/user_guide/indexing.html#returning-a-view-versus-a-copy\n",
      "  dodgers_test['predict_attend'] = train_model_fit.predict(dodgers_test)\n"
     ]
    }
   ],
   "source": [
    "# specify a simple model with bobblehead entered last\n",
    "my_model = str('attend ~ ordered_month + ordered_day_of_week + bobblehead')\n",
    "\n",
    "# fit the model to the training set\n",
    "train_model_fit = smf.ols(my_model, data = dodgers_train).fit()\n",
    "# summary of model fit to the training set\n",
    "print(train_model_fit.summary())\n",
    "# training set predictions from the model fit to the training set\n",
    "dodgers_train['predict_attend'] = train_model_fit.fittedvalues\n",
    "\n",
    "# test set predictions from the model fit to the training set\n",
    "dodgers_test['predict_attend'] = train_model_fit.predict(dodgers_test)\n"
   ]
  },
  {
   "cell_type": "code",
   "execution_count": 22,
   "id": "d3c8e055",
   "metadata": {},
   "outputs": [
    {
     "name": "stdout",
     "output_type": "stream",
     "text": [
      "\n",
      "Proportion of Test Set Variance Accounted for:  0.217\n"
     ]
    }
   ],
   "source": [
    "# compute the proportion of response variance\n",
    "# accounted for when predicting out-of-sample\n",
    "print('\\nProportion of Test Set Variance Accounted for: ',\\\n",
    "    round(np.power(dodgers_test['attend'].corr(dodgers_test['predict_attend']),2),3))\n"
   ]
  },
  {
   "cell_type": "code",
   "execution_count": 23,
   "id": "fe39a43d",
   "metadata": {},
   "outputs": [
    {
     "name": "stdout",
     "output_type": "stream",
     "text": [
      "                            OLS Regression Results                            \n",
      "==============================================================================\n",
      "Dep. Variable:                 attend   R-squared:                       0.544\n",
      "Model:                            OLS   Adj. R-squared:                  0.456\n",
      "Method:                 Least Squares   F-statistic:                     6.158\n",
      "Date:                Sun, 22 Jan 2023   Prob (F-statistic):           2.08e-07\n",
      "Time:                        01:14:43   Log-Likelihood:                -813.52\n",
      "No. Observations:                  81   AIC:                             1655.\n",
      "Df Residuals:                      67   BIC:                             1689.\n",
      "Df Model:                          13                                         \n",
      "Covariance Type:            nonrobust                                         \n",
      "=====================================================================================================\n",
      "                                        coef    std err          t      P>|t|      [0.025      0.975]\n",
      "-----------------------------------------------------------------------------------------------------\n",
      "Intercept                          3.391e+04   2521.806     13.446      0.000    2.89e+04    3.89e+04\n",
      "ordered_month[T.2May]             -2385.6248   2291.216     -1.041      0.302   -6958.912    2187.662\n",
      "ordered_month[T.3June]             7163.2336   2732.721      2.621      0.011    1708.699    1.26e+04\n",
      "ordered_month[T.4July]             2849.8281   2578.600      1.105      0.273   -2297.079    7996.735\n",
      "ordered_month[T.5Aug]              2377.9243   2402.915      0.990      0.326   -2418.314    7174.162\n",
      "ordered_month[T.6Sept]               29.0302   2521.249      0.012      0.991   -5003.404    5061.464\n",
      "ordered_month[T.7Oct]              -662.6677   4046.452     -0.164      0.870   -8739.419    7414.083\n",
      "ordered_day_of_week[T.2Tuesday]    7911.4936   2702.208      2.928      0.005    2517.864    1.33e+04\n",
      "ordered_day_of_week[T.3Wednesday]  2460.0232   2514.029      0.979      0.331   -2558.000    7478.046\n",
      "ordered_day_of_week[T.4Thursday]    775.3638   3486.154      0.222      0.825   -6183.029    7733.757\n",
      "ordered_day_of_week[T.5Friday]     4883.8183   2504.653      1.950      0.055    -115.490    9883.127\n",
      "ordered_day_of_week[T.6Saturday]   6372.0558   2552.084      2.497      0.015    1278.075    1.15e+04\n",
      "ordered_day_of_week[T.7Sunday]     6724.0027   2506.721      2.682      0.009    1720.567    1.17e+04\n",
      "bobblehead[T.YES]                  1.071e+04   2419.520      4.429      0.000    5885.521    1.55e+04\n",
      "==============================================================================\n",
      "Omnibus:                        6.343   Durbin-Watson:                   2.130\n",
      "Prob(Omnibus):                  0.042   Jarque-Bera (JB):                5.908\n",
      "Skew:                           0.654   Prob(JB):                       0.0521\n",
      "Kurtosis:                       3.205   Cond. No.                         9.76\n",
      "==============================================================================\n",
      "\n",
      "Notes:\n",
      "[1] Standard Errors assume that the covariance matrix of the errors is correctly specified.\n",
      "\n",
      "Estimated Effect of Bobblehead Promotion on Attendance:  10715.0\n"
     ]
    }
   ],
   "source": [
    "# use the full data set to obtain an estimate of the increase in\n",
    "# attendance due to bobbleheads, controlling for other factors \n",
    "my_model_fit = smf.ols(my_model, data = dodgers).fit()\n",
    "print(my_model_fit.summary())\n",
    "\n",
    "print('\\nEstimated Effect of Bobblehead Promotion on Attendance: ',\\\n",
    "    round(my_model_fit.params[13],0))"
   ]
  },
  {
   "cell_type": "code",
   "execution_count": null,
   "id": "eb7b3ac4",
   "metadata": {},
   "outputs": [],
   "source": []
  }
 ],
 "metadata": {
  "kernelspec": {
   "display_name": "Python 3 (ipykernel)",
   "language": "python",
   "name": "python3"
  },
  "language_info": {
   "codemirror_mode": {
    "name": "ipython",
    "version": 3
   },
   "file_extension": ".py",
   "mimetype": "text/x-python",
   "name": "python",
   "nbconvert_exporter": "python",
   "pygments_lexer": "ipython3",
   "version": "3.9.13"
  }
 },
 "nbformat": 4,
 "nbformat_minor": 5
}
