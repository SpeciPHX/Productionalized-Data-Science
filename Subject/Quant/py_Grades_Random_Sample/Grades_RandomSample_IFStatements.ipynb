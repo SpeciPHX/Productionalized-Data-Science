{
 "cells": [
  {
   "cell_type": "code",
   "execution_count": 1,
   "id": "24724ccb",
   "metadata": {},
   "outputs": [],
   "source": [
    "from random import randint\n",
    "import pandas as pd\n",
    "import numpy as np\n",
    "\n",
    "\n",
    "def random_grades(num_of_grades):\n",
    "    '''return number of grades with a column that denotes the letter'''\n",
    "    grades = pd.DataFrame([randint(51,100) for _ in range(num_of_grades)],columns = ['student_id'])\n",
    "    \n",
    "    def grade_range(num):\n",
    "        '''apply to a column to determine which letter grade it  should be '''\n",
    "        \n",
    "        if (num >= 90):\n",
    "            val = 'A'\n",
    "        elif (num >= 80 and num < 90):\n",
    "            val = 'B'\n",
    "        elif (num >= 70 and num < 80):\n",
    "            val = 'C'\n",
    "        elif (num >= 60 and num < 70):\n",
    "            val = 'D'\n",
    "        else:\n",
    "            val = 'F'\n",
    "        return val\n",
    "    \n",
    "    grades['grade'] = grades.student_id.apply( grade_range)\n",
    "    \n",
    "    grades_grouped = grades.groupby(['grade']).count()\n",
    "\n",
    "    return grades_grouped"
   ]
  },
  {
   "cell_type": "code",
   "execution_count": 2,
   "id": "07bb6f66",
   "metadata": {},
   "outputs": [
    {
     "data": {
      "text/html": [
       "<div>\n",
       "<style scoped>\n",
       "    .dataframe tbody tr th:only-of-type {\n",
       "        vertical-align: middle;\n",
       "    }\n",
       "\n",
       "    .dataframe tbody tr th {\n",
       "        vertical-align: top;\n",
       "    }\n",
       "\n",
       "    .dataframe thead th {\n",
       "        text-align: right;\n",
       "    }\n",
       "</style>\n",
       "<table border=\"1\" class=\"dataframe\">\n",
       "  <thead>\n",
       "    <tr style=\"text-align: right;\">\n",
       "      <th></th>\n",
       "      <th>student_id</th>\n",
       "    </tr>\n",
       "    <tr>\n",
       "      <th>grade</th>\n",
       "      <th></th>\n",
       "    </tr>\n",
       "  </thead>\n",
       "  <tbody>\n",
       "    <tr>\n",
       "      <th>A</th>\n",
       "      <td>11</td>\n",
       "    </tr>\n",
       "    <tr>\n",
       "      <th>B</th>\n",
       "      <td>8</td>\n",
       "    </tr>\n",
       "    <tr>\n",
       "      <th>C</th>\n",
       "      <td>4</td>\n",
       "    </tr>\n",
       "    <tr>\n",
       "      <th>D</th>\n",
       "      <td>13</td>\n",
       "    </tr>\n",
       "    <tr>\n",
       "      <th>F</th>\n",
       "      <td>4</td>\n",
       "    </tr>\n",
       "  </tbody>\n",
       "</table>\n",
       "</div>"
      ],
      "text/plain": [
       "       student_id\n",
       "grade            \n",
       "A              11\n",
       "B               8\n",
       "C               4\n",
       "D              13\n",
       "F               4"
      ]
     },
     "execution_count": 2,
     "metadata": {},
     "output_type": "execute_result"
    }
   ],
   "source": [
    "random_grades(40)"
   ]
  },
  {
   "cell_type": "code",
   "execution_count": null,
   "id": "971e9efc",
   "metadata": {},
   "outputs": [],
   "source": []
  }
 ],
 "metadata": {
  "kernelspec": {
   "display_name": "Python 3 (ipykernel)",
   "language": "python",
   "name": "python3"
  },
  "language_info": {
   "codemirror_mode": {
    "name": "ipython",
    "version": 3
   },
   "file_extension": ".py",
   "mimetype": "text/x-python",
   "name": "python",
   "nbconvert_exporter": "python",
   "pygments_lexer": "ipython3",
   "version": "3.9.13"
  }
 },
 "nbformat": 4,
 "nbformat_minor": 5
}
