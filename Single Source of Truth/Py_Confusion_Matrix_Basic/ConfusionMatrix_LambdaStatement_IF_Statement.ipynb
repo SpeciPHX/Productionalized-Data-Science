{
 "cells": [
  {
   "cell_type": "code",
   "execution_count": 1,
   "id": "03cefaa3",
   "metadata": {},
   "outputs": [],
   "source": [
    "from random import randint\n",
    "import pandas as pd\n",
    "import numpy as np\n",
    "from collections import defaultdict\n",
    "def car_stats(number_of_people):\n",
    "    \"\"\"generate random sequence of numbers weighted by the probabilities of each outcome\n",
    "    no_car_and_have_kids =  .2\n",
    "\n",
    "    1 = have_car_and_have_children\n",
    "    2 = have_car_and_no_children\n",
    "    3 =  no_car_and_no_kids\n",
    "    4 = no_car_and_have_kids\n",
    "    \"\"\"  \n",
    " \n",
    "    aus = pd.DataFrame([np.random.choice(np.arange(1, 5), p=[.13, .12, .55, .2]) for _ in range(number_of_people)])\n",
    "    \n",
    "    aus['children']=aus[0].apply(lambda x: True if x==1 or x==4 else False)\n",
    "    aus['large_car']=aus[0].apply(lambda x: True if x ==2 or x ==1 else False)\n",
    "    \n",
    "    return pd.crosstab(aus.children, aus.large_car, margins=True)"
   ]
  },
  {
   "cell_type": "code",
   "execution_count": 2,
   "id": "5a37bd06",
   "metadata": {},
   "outputs": [
    {
     "data": {
      "text/html": [
       "<div>\n",
       "<style scoped>\n",
       "    .dataframe tbody tr th:only-of-type {\n",
       "        vertical-align: middle;\n",
       "    }\n",
       "\n",
       "    .dataframe tbody tr th {\n",
       "        vertical-align: top;\n",
       "    }\n",
       "\n",
       "    .dataframe thead th {\n",
       "        text-align: right;\n",
       "    }\n",
       "</style>\n",
       "<table border=\"1\" class=\"dataframe\">\n",
       "  <thead>\n",
       "    <tr style=\"text-align: right;\">\n",
       "      <th>large_car</th>\n",
       "      <th>False</th>\n",
       "      <th>True</th>\n",
       "      <th>All</th>\n",
       "    </tr>\n",
       "    <tr>\n",
       "      <th>children</th>\n",
       "      <th></th>\n",
       "      <th></th>\n",
       "      <th></th>\n",
       "    </tr>\n",
       "  </thead>\n",
       "  <tbody>\n",
       "    <tr>\n",
       "      <th>False</th>\n",
       "      <td>176</td>\n",
       "      <td>40</td>\n",
       "      <td>216</td>\n",
       "    </tr>\n",
       "    <tr>\n",
       "      <th>True</th>\n",
       "      <td>53</td>\n",
       "      <td>31</td>\n",
       "      <td>84</td>\n",
       "    </tr>\n",
       "    <tr>\n",
       "      <th>All</th>\n",
       "      <td>229</td>\n",
       "      <td>71</td>\n",
       "      <td>300</td>\n",
       "    </tr>\n",
       "  </tbody>\n",
       "</table>\n",
       "</div>"
      ],
      "text/plain": [
       "large_car  False  True  All\n",
       "children                   \n",
       "False        176    40  216\n",
       "True          53    31   84\n",
       "All          229    71  300"
      ]
     },
     "execution_count": 2,
     "metadata": {},
     "output_type": "execute_result"
    }
   ],
   "source": [
    "car_stats(300)"
   ]
  },
  {
   "cell_type": "code",
   "execution_count": null,
   "id": "15dfb88d",
   "metadata": {},
   "outputs": [],
   "source": []
  }
 ],
 "metadata": {
  "kernelspec": {
   "display_name": "Python 3 (ipykernel)",
   "language": "python",
   "name": "python3"
  },
  "language_info": {
   "codemirror_mode": {
    "name": "ipython",
    "version": 3
   },
   "file_extension": ".py",
   "mimetype": "text/x-python",
   "name": "python",
   "nbconvert_exporter": "python",
   "pygments_lexer": "ipython3",
   "version": "3.9.13"
  }
 },
 "nbformat": 4,
 "nbformat_minor": 5
}
