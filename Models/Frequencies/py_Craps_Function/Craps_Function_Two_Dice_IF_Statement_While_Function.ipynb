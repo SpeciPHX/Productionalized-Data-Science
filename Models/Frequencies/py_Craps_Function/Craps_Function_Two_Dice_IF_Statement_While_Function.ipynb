{
 "cells": [
  {
   "cell_type": "code",
   "execution_count": 1,
   "id": "73553ef2",
   "metadata": {},
   "outputs": [],
   "source": [
    "from random import randint\n",
    "import pandas as pd\n",
    "import numpy as np\n",
    "def roll():\n",
    "    '''Generates a two die roll'''\n",
    "    die1 = randint(1,6)\n",
    "    die2 = randint(1,6)\n",
    "    return die1 + die2\n",
    "\n",
    "def play_craps():\n",
    "    '''Game Control function that begins playing by calling\n",
    "    the roll() function and then holding each roll totals 'cnt1' \n",
    "    or 'cnt2', in order to determine player's current and final status\n",
    "    '''\n",
    "    cnt1 = roll()\n",
    "    if cnt1 == 7 or cnt1 == 11:\n",
    "        print('You rolled', cnt1,'!', end='\\n')\n",
    "        print('You win!')\n",
    "    else:\n",
    "        print('Target =', cnt1, end='\\n')\n",
    "        val = 1\n",
    "        while True:\n",
    "            cnt2 = roll()\n",
    "            if cnt2 == cnt1:\n",
    "                print('You rolled', cnt1, '!', end='\\n')\n",
    "                print('You win!')\n",
    "                break\n",
    "            elif cnt2 == 7 or cnt2 == 11:\n",
    "                print('Rolled %d. You lost!' %cnt2)\n",
    "                break\n",
    "            else:\n",
    "                print('Rolled', cnt2)\n",
    "                print(\"Didn't roll 7, 11, or %d. Rerolling ...\" % cnt1)"
   ]
  },
  {
   "cell_type": "code",
   "execution_count": 5,
   "id": "177d054e",
   "metadata": {},
   "outputs": [
    {
     "name": "stdout",
     "output_type": "stream",
     "text": [
      "Target = 3\n",
      "Rolled 11. You lost!\n"
     ]
    }
   ],
   "source": [
    "play_craps()"
   ]
  },
  {
   "cell_type": "code",
   "execution_count": null,
   "id": "8d886bff",
   "metadata": {},
   "outputs": [],
   "source": []
  }
 ],
 "metadata": {
  "kernelspec": {
   "display_name": "Python 3 (ipykernel)",
   "language": "python",
   "name": "python3"
  },
  "language_info": {
   "codemirror_mode": {
    "name": "ipython",
    "version": 3
   },
   "file_extension": ".py",
   "mimetype": "text/x-python",
   "name": "python",
   "nbconvert_exporter": "python",
   "pygments_lexer": "ipython3",
   "version": "3.9.13"
  }
 },
 "nbformat": 4,
 "nbformat_minor": 5
}
