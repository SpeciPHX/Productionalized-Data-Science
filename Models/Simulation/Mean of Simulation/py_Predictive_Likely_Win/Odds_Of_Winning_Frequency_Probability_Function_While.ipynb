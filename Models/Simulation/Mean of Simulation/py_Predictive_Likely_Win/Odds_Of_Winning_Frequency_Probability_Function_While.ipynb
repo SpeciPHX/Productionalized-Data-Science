{
 "cells": [
  {
   "cell_type": "code",
   "execution_count": 1,
   "id": "882db4b3",
   "metadata": {},
   "outputs": [],
   "source": [
    "#Brandon Lang is a creative entrepreneur who has developed a novelty soap item called Jackpot to target consumers with a gambling \n",
    "#habit. Inside each bar of Jackpot shower soap is a single rolled-up bill of U.S. currency. \n",
    "#The currency (rolled up and sealed in shrink-wrap) is appropriately inserted into the soap mixture prior to the cutting and stamping procedure. \n",
    "#The distribution of paper currency (per 1000 bars of soap) is given in the following table.\n",
    "\n",
    "#Bill Denomination\tNumber of Bills\n",
    "#$1\t520\n",
    "#$5\t260\n",
    "#$10\t120\n",
    "#$20\t70\n",
    "#$50\t29\n",
    "#$100\t1\n",
    "#Total\t1000\n",
    "#What is the expected amount of money in a single bar of Jackpot soap?\n",
    "#What is the standard deviation of the money in a single bar of Jackpot soap?\n",
    "#How many bars of soap would a customer have to buy so that, on average, he or she has purchased three bars containing a  50𝑜𝑟\n",
    "# 100 bill?\n",
    "#If a customer buys 8 bars of soap, what is the probability that at least one of these bars contains a bill of $20 or larger?\n",
    "#Type Markdown and LaTeX: 𝛼2\n",
    "#7) Write a function that randomly draws from the above distribution.\n",
    "#\n",
    "#Use it to simulate the answer to part 3 of the last question at least 20 times. How often do you get the expected result?\n",
    "#Use it to simulate part 4 of the last question 100 times. How close does your simulation come to the true expected value?"
   ]
  },
  {
   "cell_type": "code",
   "execution_count": 2,
   "id": "fcbd38d4",
   "metadata": {},
   "outputs": [],
   "source": [
    "import numpy as np\n",
    "import itertools "
   ]
  },
  {
   "cell_type": "code",
   "execution_count": 3,
   "id": "0bff4e57",
   "metadata": {},
   "outputs": [],
   "source": [
    "def distribution(n):\n",
    "    numbers =[np.random.choice([1,5,10,20,50,100],p=[.52,.26,.12,.07,.029,.001]) for _ in range(n)]\n",
    "    \n",
    "    if len(numbers) ==1:\n",
    "        for item in numbers:\n",
    "            return(int(item))\n",
    "    else:\n",
    "        return numbers\n",
    "    \n",
    "def pick_value (number_of_bars,*args):\n",
    "    \"\"\"Will return the number of purchases it took to have a number of bars of your desired value\"\"\"\n",
    "    \n",
    "    \n",
    "    value_of_bars = args\n",
    "    count_of_draws = 0\n",
    "    count_of_bars_with_value_we_want = 0\n",
    "    \n",
    "    while count_of_bars_with_value_we_want<number_of_bars:  ##keep purchasing bars until you reach the number you want\n",
    "        choice = distribution(1)\n",
    "        #print(type(choice))\n",
    "        #print(choice, ' this is your choice')\n",
    "   \n",
    "        if choice == value_of_bars[0] or choice ==value_of_bars[1]:\n",
    "            #print('choice should equal item')\n",
    "            count_of_draws+=1\n",
    "            count_of_bars_with_value_we_want +=1\n",
    "        else:\n",
    "            count_of_draws+=1\n",
    "                \n",
    "    \n",
    "\n",
    "    #print(count_of_draws,'number of bar purchases')\n",
    "    #print(count_of_bars_with_value_we_want, ' bars we want with denomination {}'.format(value_of_bars))\n",
    "    return count_of_draws"
   ]
  },
  {
   "cell_type": "code",
   "execution_count": 4,
   "id": "f60d3f5e",
   "metadata": {},
   "outputs": [
    {
     "data": {
      "text/plain": [
       "43"
      ]
     },
     "execution_count": 4,
     "metadata": {},
     "output_type": "execute_result"
    }
   ],
   "source": [
    "pick_value(3,50,100)"
   ]
  },
  {
   "cell_type": "code",
   "execution_count": 5,
   "id": "577ae327",
   "metadata": {},
   "outputs": [
    {
     "name": "stdout",
     "output_type": "stream",
     "text": [
      "108.65\n"
     ]
    }
   ],
   "source": [
    "simulate_q_3 =[pick_value(3,50,100) for item in range(20)]\n",
    "\n",
    "print(np.mean(simulate_q_3))"
   ]
  },
  {
   "cell_type": "code",
   "execution_count": 8,
   "id": "db179b17",
   "metadata": {},
   "outputs": [],
   "source": [
    "#The mean should be the expected value of the list of picking three bars of soap with values 50 or 100. \n",
    "#The mean should center around the expected value of 100 (which it does)."
   ]
  },
  {
   "cell_type": "code",
   "execution_count": 9,
   "id": "578bac5b",
   "metadata": {},
   "outputs": [],
   "source": [
    "#If a customer buys 8 bars of soap,\n",
    "#what is the probability that at least one of these bars contains a bill of $20 or larger?\n",
    "\n",
    "def twenty_or_larger(purchases):\n",
    "    \"\"\"how many purchases will have bars with values of 20 or more\"\"\"\n",
    "    numbers =[np.random.choice([1,5,10,20,50,100],p=[.52,.26,.12,.07,.029,.001]) for _ in range(purchases)]\n",
    "    count = 0\n",
    "    for item in numbers:\n",
    "        if item >=20:\n",
    "            count +=1\n",
    "    return count/purchases"
   ]
  },
  {
   "cell_type": "code",
   "execution_count": null,
   "id": "901073bf",
   "metadata": {},
   "outputs": [],
   "source": []
  }
 ],
 "metadata": {
  "kernelspec": {
   "display_name": "Python 3 (ipykernel)",
   "language": "python",
   "name": "python3"
  },
  "language_info": {
   "codemirror_mode": {
    "name": "ipython",
    "version": 3
   },
   "file_extension": ".py",
   "mimetype": "text/x-python",
   "name": "python",
   "nbconvert_exporter": "python",
   "pygments_lexer": "ipython3",
   "version": "3.9.13"
  }
 },
 "nbformat": 4,
 "nbformat_minor": 5
}
